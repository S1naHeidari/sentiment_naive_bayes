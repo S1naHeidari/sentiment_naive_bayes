{
 "cells": [
  {
   "cell_type": "markdown",
   "id": "auburn-force",
   "metadata": {},
   "source": [
    "# Importing necessary libraries"
   ]
  },
  {
   "cell_type": "code",
   "execution_count": 3,
   "id": "royal-belarus",
   "metadata": {},
   "outputs": [],
   "source": [
    "import sys\n",
    "import getopt\n",
    "import os\n",
    "import math\n",
    "from IPython.display import Image"
   ]
  },
  {
   "cell_type": "markdown",
   "id": "exempt-allen",
   "metadata": {},
   "source": [
    "# Classification\n",
    "-> Using count of every word in each 'pos' or 'neg' class\n",
    "\n",
    "-> Computing log probabilites\n",
    "\n",
    "-> Classify the example record"
   ]
  },
  {
   "cell_type": "code",
   "execution_count": null,
   "id": "rubber-investor",
   "metadata": {},
   "outputs": [],
   "source": [
    "def classify(self, words):\n",
    "    \"\"\"\n",
    "      'words' is a list of words to classify. Return 'pos' or 'neg' classification.\n",
    "    \"\"\"\n",
    "\n",
    "    Total_Dics_Length = len(self.Frequency_In_Pos) + len(self.Frequency_In_Neg)\n",
    "    pos_Dic_Len = sum(self.Frequency_In_Pos.values())\n",
    "    neg_Dic_Len = sum(self.Frequency_In_Neg.values())\n",
    "\n",
    "    # p(c = 'pos')\n",
    "    # Out of 1800 reviews, 900 of them are positive reviews\n",
    "    posScore = math.log(0.5)    #  900 positive reviews out of 1800 reviews for training set which makes the probability of positive reviews  0.5\n",
    "    # p(c = 'neg')\n",
    "    # Out of 1800 reviews, 900 of them are positive reviews\n",
    "    negScore =  math.log(0.5)  #   900 negative reviews out of 1800 reviews for training set which makes the probability of negative reviews  0.5\n",
    "\n",
    "    # computing log probabilities\n",
    "    for w in words:\n",
    "        posScore += math.log((self.Frequency_In_Pos[w] + 1.) / (pos_Dic_Len + Total_Dics_Length))\n",
    "        negScore += math.log((self.Frequency_In_Neg[w] + 1.) / (neg_Dic_Len + Total_Dics_Length))\n",
    "\n",
    "    if posScore > negScore:\n",
    "        return 'pos'\n",
    "    else:\n",
    "        return 'neg'"
   ]
  },
  {
   "cell_type": "markdown",
   "id": "stopped-illinois",
   "metadata": {},
   "source": [
    "Using two counter types (list of tuples), we add to count of each word in the counter type"
   ]
  },
  {
   "cell_type": "code",
   "execution_count": null,
   "id": "hazardous-harrison",
   "metadata": {},
   "outputs": [],
   "source": [
    "def addExample(self, klass, words):\n",
    "    \"\"\"\n",
    "     * Train your model on an example document with label klass ('pos' or 'neg') and\n",
    "     * words, a list of strings.\n",
    "     * You should store whatever data structures you use for your classifier\n",
    "     * in the NaiveBayes class.\n",
    "     * Returns nothing\n",
    "    \"\"\"\n",
    "    for w in words:\n",
    "        if klass == 'pos':\n",
    "            self.Frequency_In_Pos[w] += 1\n",
    "        elif klass == 'neg':\n",
    "            self.Frequency_In_Neg[w] += 1"
   ]
  },
  {
   "cell_type": "markdown",
   "id": "criminal-blowing",
   "metadata": {},
   "source": [
    "# Filtering stopwords"
   ]
  },
  {
   "cell_type": "code",
   "execution_count": null,
   "id": "vital-henry",
   "metadata": {},
   "outputs": [],
   "source": [
    "def filterStopWords(self, words):\n",
    "    \"\"\"\n",
    "        * Filters stop words found in self.stopList.\n",
    "    \"\"\"\n",
    "    stop_words_removed = []\n",
    "    for word in words:\n",
    "        if word in self.stopList or word.strip() == '':\n",
    "            pass\n",
    "        else:\n",
    "            stop_words_removed.append(word)\n",
    "\n",
    "    return stop_words_removed"
   ]
  },
  {
   "cell_type": "markdown",
   "id": "average-citizen",
   "metadata": {},
   "source": [
    "# Results"
   ]
  },
  {
   "cell_type": "markdown",
   "id": "visible-tooth",
   "metadata": {},
   "source": [
    "## Filtering stop words"
   ]
  },
  {
   "cell_type": "code",
   "execution_count": 5,
   "id": "comprehensive-commercial",
   "metadata": {},
   "outputs": [
    {
     "data": {
      "text/html": [
       "<img src=\"img/stopword.png\" width=\"800\" height=\"600\"/>"
      ],
      "text/plain": [
       "<IPython.core.display.Image object>"
      ]
     },
     "execution_count": 5,
     "metadata": {},
     "output_type": "execute_result"
    }
   ],
   "source": [
    "Image(url= \"img/stopword.png\", width=800, height=600)"
   ]
  },
  {
   "cell_type": "markdown",
   "id": "loose-spyware",
   "metadata": {},
   "source": [
    "## Without filtering stop words"
   ]
  },
  {
   "cell_type": "code",
   "execution_count": 7,
   "id": "published-utility",
   "metadata": {},
   "outputs": [
    {
     "data": {
      "text/html": [
       "<img src=\"img/no_stop_word.png\" width=\"800\" height=\"600\"/>"
      ],
      "text/plain": [
       "<IPython.core.display.Image object>"
      ]
     },
     "execution_count": 7,
     "metadata": {},
     "output_type": "execute_result"
    }
   ],
   "source": [
    "Image(url= \"img/no_stop_word.png\", width=800, height=600)"
   ]
  }
 ],
 "metadata": {
  "kernelspec": {
   "display_name": "Python 3",
   "language": "python",
   "name": "python3"
  },
  "language_info": {
   "codemirror_mode": {
    "name": "ipython",
    "version": 3
   },
   "file_extension": ".py",
   "mimetype": "text/x-python",
   "name": "python",
   "nbconvert_exporter": "python",
   "pygments_lexer": "ipython3",
   "version": "3.9.9"
  }
 },
 "nbformat": 4,
 "nbformat_minor": 5
}
